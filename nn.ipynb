{
 "cells": [
  {
   "cell_type": "code",
   "execution_count": 1,
   "metadata": {},
   "outputs": [],
   "source": [
    "import numpy as np"
   ]
  },
  {
   "cell_type": "code",
   "execution_count": 2,
   "metadata": {},
   "outputs": [],
   "source": [
    "X = np.array([\n",
    "    [0, 0],\n",
    "    [0, 1],\n",
    "    [1, 0],\n",
    "    [1, 1]\n",
    "])\n",
    "Y = np.array([0, 1, 1, 0])"
   ]
  },
  {
   "cell_type": "code",
   "execution_count": 3,
   "metadata": {},
   "outputs": [],
   "source": [
    "def sigmoid(z):\n",
    "    return 1 / (1 + np.exp(-z))"
   ]
  },
  {
   "cell_type": "code",
   "execution_count": 4,
   "metadata": {},
   "outputs": [],
   "source": [
    "def sigmoid_derivative(a):\n",
    "    return a * (1 - a)"
   ]
  },
  {
   "cell_type": "code",
   "execution_count": 5,
   "metadata": {},
   "outputs": [],
   "source": [
    "W_hidden = np.random.randn(2, 2)\n",
    "b_hidden = np.random.rand(2) # [0, 1]\n",
    "\n",
    "W_output = np.random.randn(2)\n",
    "b_output = np.random.rand(1)"
   ]
  },
  {
   "cell_type": "code",
   "execution_count": 6,
   "metadata": {},
   "outputs": [],
   "source": [
    "alpha = 0.1\n",
    "epochs = 10000"
   ]
  },
  {
   "cell_type": "code",
   "execution_count": 7,
   "metadata": {},
   "outputs": [
    {
     "name": "stdout",
     "output_type": "stream",
     "text": [
      "Epoch 0, Loss: [0.25120733]\n",
      "Epoch 1000, Loss: [0.24988246]\n",
      "Epoch 2000, Loss: [0.24932502]\n",
      "Epoch 3000, Loss: [0.24835427]\n",
      "Epoch 4000, Loss: [0.24600183]\n",
      "Epoch 5000, Loss: [0.2395718]\n",
      "Epoch 6000, Loss: [0.22237414]\n",
      "Epoch 7000, Loss: [0.19318252]\n",
      "Epoch 8000, Loss: [0.15876781]\n",
      "Epoch 9000, Loss: [0.10148208]\n"
     ]
    }
   ],
   "source": [
    "for epoch in range(epochs):\n",
    "    total_loss = 0\n",
    "    \n",
    "    grad_W_output = np.zeros_like(W_output)\n",
    "    grad_W_hidden = np.zeros_like(W_hidden)\n",
    "    grad_b_output = 0.0\n",
    "    grad_b_hidden = np.zeros_like(b_hidden)\n",
    "    for x, y in zip(X, Y):\n",
    "        # forward propogation\n",
    "        z_hidden = np.dot(W_hidden, x) + b_hidden\n",
    "        h = sigmoid(z_hidden)\n",
    "        z_output = np.dot(W_output, h) + b_output\n",
    "        y_hat = sigmoid(z_output)\n",
    "        \n",
    "        # error calculation\n",
    "        loss = (y_hat - y) ** 2\n",
    "        total_loss += loss\n",
    "        \n",
    "        # backpropogation\n",
    "        delta_out = -2 * (y - y_hat) * (y_hat * (1 - y_hat))\n",
    "        delta_h = delta_out * W_output * (h * (1 - h))\n",
    "        \n",
    "        grad_W_output += delta_out * h\n",
    "        grad_b_output += delta_out\n",
    "        grad_W_hidden += np.outer(delta_h, x)\n",
    "        grad_b_hidden += delta_h\n",
    "        \n",
    "    grad_W_output /= len(X)\n",
    "    grad_b_output /= len(X)\n",
    "    grad_W_hidden /= len(X)\n",
    "    grad_b_hidden /= len(X)\n",
    "        \n",
    "    W_output -= alpha * grad_W_output\n",
    "    W_hidden -= alpha * grad_W_hidden\n",
    "    b_output -= alpha * grad_b_output\n",
    "    b_hidden -= alpha * grad_b_hidden\n",
    "    \n",
    "    if epoch % 1000 == 0:\n",
    "        print(f\"Epoch {epoch}, Loss: {total_loss / len(X)}\")\n",
    "        \n",
    "        \n",
    "    \n",
    "        "
   ]
  },
  {
   "cell_type": "code",
   "execution_count": 8,
   "metadata": {},
   "outputs": [
    {
     "name": "stdout",
     "output_type": "stream",
     "text": [
      "Final output:\n",
      "Input: [0 0], Prediction: 0, Raw prediction: [0.18279313]\n",
      "Input: [0 1], Prediction: 1, Raw prediction: [0.78604338]\n",
      "Input: [1 0], Prediction: 1, Raw prediction: [0.78598237]\n",
      "Input: [1 1], Prediction: 0, Raw prediction: [0.2629939]\n"
     ]
    }
   ],
   "source": [
    "print(\"Final output:\")\n",
    "for x in X:\n",
    "    z_hidden = np.dot(W_hidden, x) + b_hidden\n",
    "    h = sigmoid(z_hidden)\n",
    "    z_output = np.dot(W_output, h) + b_output\n",
    "    y_hat = sigmoid(z_output)\n",
    "    y_pred = 1 if y_hat >= 0.5 else 0\n",
    "    print(f\"Input: {x}, Prediction: {y_pred}, Raw prediction: {y_hat}\")"
   ]
  },
  {
   "cell_type": "code",
   "execution_count": null,
   "metadata": {},
   "outputs": [],
   "source": []
  }
 ],
 "metadata": {
  "kernelspec": {
   "display_name": "environment",
   "language": "python",
   "name": "python3"
  },
  "language_info": {
   "codemirror_mode": {
    "name": "ipython",
    "version": 3
   },
   "file_extension": ".py",
   "mimetype": "text/x-python",
   "name": "python",
   "nbconvert_exporter": "python",
   "pygments_lexer": "ipython3",
   "version": "3.12.7"
  }
 },
 "nbformat": 4,
 "nbformat_minor": 2
}
